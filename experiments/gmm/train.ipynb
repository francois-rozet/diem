{
 "cells": [
  {
   "cell_type": "code",
   "execution_count": null,
   "metadata": {},
   "outputs": [],
   "source": [
    "import inox\n",
    "import inox.nn as nn\n",
    "import jax\n",
    "import jax.numpy as jnp\n",
    "import optax\n",
    "\n",
    "from inox.random import PRNG\n",
    "from typing import *\n",
    "\n",
    "from utils import *"
   ]
  },
  {
   "cell_type": "code",
   "execution_count": null,
   "metadata": {},
   "outputs": [],
   "source": [
    "rng = PRNG(1)"
   ]
  },
  {
   "cell_type": "markdown",
   "metadata": {},
   "source": [
    "## Data"
   ]
  },
  {
   "cell_type": "code",
   "execution_count": null,
   "metadata": {},
   "outputs": [],
   "source": [
    "x, A, y = make_data(65536, key=rng.split())\n",
    "show(x)"
   ]
  },
  {
   "cell_type": "markdown",
   "metadata": {},
   "source": [
    "## Fit"
   ]
  },
  {
   "cell_type": "code",
   "execution_count": null,
   "metadata": {},
   "outputs": [],
   "source": [
    "mu_x, sigma_x = fit_moments(\n",
    "    features=5,\n",
    "    rank=3,\n",
    "    A=inox.Partial(measure, A),\n",
    "    y=y,\n",
    "    sigma_y=1e-3 ** 2,\n",
    "    key=rng.split(),\n",
    ")"
   ]
  },
  {
   "cell_type": "code",
   "execution_count": null,
   "metadata": {},
   "outputs": [],
   "source": [
    "x_bis = sample(GaussianDenoiser(mu_x, sigma_x), A, y, rng.split())\n",
    "show(x_bis)"
   ]
  },
  {
   "cell_type": "markdown",
   "metadata": {},
   "source": [
    "## Training"
   ]
  },
  {
   "cell_type": "code",
   "execution_count": null,
   "metadata": {},
   "outputs": [],
   "source": [
    "def train(x, model=None, steps=65536):\n",
    "    if model is None:\n",
    "        model = make_model(key=rng.split())\n",
    "\n",
    "    static, params, others = model.partition(nn.Parameter)\n",
    "\n",
    "    scheduler = optax.linear_schedule(init_value=1e-3, end_value=1e-6, transition_steps=steps)\n",
    "    optimizer = optax.adam(learning_rate=scheduler)\n",
    "    opt_state = optimizer.init(params)\n",
    "\n",
    "    objective = DenoiserLoss()\n",
    "\n",
    "    def ell(params, others, x, key):\n",
    "        keys = jax.random.split(key, 2)\n",
    "\n",
    "        z = jax.random.normal(keys[0], shape=x.shape)\n",
    "        t = jax.random.beta(keys[1], a=3, b=5, shape=x.shape[:1])\n",
    "\n",
    "        return objective(static(params, others), x, z, t)\n",
    "\n",
    "    @jax.jit\n",
    "    def sgd_step(params, others, opt_state, x, key):\n",
    "        loss, grads = jax.value_and_grad(ell)(params, others, x, key)\n",
    "        updates, opt_state = optimizer.update(grads, opt_state, params)\n",
    "        params = optax.apply_updates(params, updates)\n",
    "\n",
    "        return loss, params, opt_state\n",
    "\n",
    "    for step in range(steps):\n",
    "        i = rng.randint(shape=(1024,), minval=0, maxval=len(y))\n",
    "        loss, params, opt_state = sgd_step(params, others, opt_state, x[i], rng.split())\n",
    "\n",
    "    return static(params, others)"
   ]
  },
  {
   "cell_type": "code",
   "execution_count": null,
   "metadata": {},
   "outputs": [],
   "source": [
    "model = train(x_bis)\n",
    "x_bis = sample(model, A, y, rng.split())\n",
    "show(x_bis)"
   ]
  },
  {
   "cell_type": "code",
   "execution_count": null,
   "metadata": {},
   "outputs": [],
   "source": [
    "model = train(x_bis)\n",
    "x_bis = sample(model, A, y, rng.split())\n",
    "show(x_bis)"
   ]
  },
  {
   "cell_type": "code",
   "execution_count": null,
   "metadata": {},
   "outputs": [],
   "source": [
    "model = train(x_bis)\n",
    "x_bis = sample(model, A, y, rng.split())\n",
    "show(x_bis)"
   ]
  },
  {
   "cell_type": "code",
   "execution_count": null,
   "metadata": {},
   "outputs": [],
   "source": [
    "model = train(x_bis)\n",
    "x_bis = sample(model, A, y, rng.split())\n",
    "show(x_bis)"
   ]
  },
  {
   "cell_type": "code",
   "execution_count": null,
   "metadata": {},
   "outputs": [],
   "source": [
    "x_ter = sample_any(model, shape=(65535, 5), key=rng.split())\n",
    "show(x_ter)"
   ]
  }
 ],
 "metadata": {
  "kernelspec": {
   "display_name": "inox",
   "language": "python",
   "name": "inox"
  },
  "language_info": {
   "codemirror_mode": {
    "name": "ipython",
    "version": 3
   },
   "file_extension": ".py",
   "mimetype": "text/x-python",
   "name": "python",
   "nbconvert_exporter": "python",
   "pygments_lexer": "ipython3",
   "version": "3.9.18"
  }
 },
 "nbformat": 4,
 "nbformat_minor": 4
}
