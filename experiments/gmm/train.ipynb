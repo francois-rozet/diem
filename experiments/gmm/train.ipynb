{
 "cells": [
  {
   "cell_type": "code",
   "execution_count": null,
   "metadata": {},
   "outputs": [],
   "source": [
    "import inox\n",
    "import inox.nn as nn\n",
    "import jax\n",
    "import jax.numpy as jnp\n",
    "import optax\n",
    "\n",
    "from inox.random import PRNG\n",
    "from tqdm import trange\n",
    "from typing import *\n",
    "\n",
    "from utils import *"
   ]
  },
  {
   "cell_type": "code",
   "execution_count": null,
   "metadata": {},
   "outputs": [],
   "source": [
    "rng = PRNG(0)"
   ]
  },
  {
   "cell_type": "markdown",
   "metadata": {},
   "source": [
    "## Data"
   ]
  },
  {
   "cell_type": "code",
   "execution_count": null,
   "metadata": {},
   "outputs": [],
   "source": [
    "modes = rng.uniform((8, 5), minval=-2.0, maxval=2.0)\n",
    "\n",
    "i = rng.randint((65536,), minval=0, maxval=len(modes))\n",
    "x = rng.normal((65536, 5)) / 8\n",
    "x = modes[i] + x\n",
    "\n",
    "show(x)"
   ]
  },
  {
   "cell_type": "code",
   "execution_count": null,
   "metadata": {},
   "outputs": [],
   "source": [
    "def measure(A, x):\n",
    "    return jnp.einsum('...ij,...j->...i', A, x)\n",
    "\n",
    "A = rng.normal((65536, 2, 5))\n",
    "A = A / jnp.linalg.norm(A, axis=-1, keepdims=True)\n",
    "\n",
    "y = measure(A, x) + 1e-3 * rng.normal((65536, 2))"
   ]
  },
  {
   "cell_type": "code",
   "execution_count": null,
   "metadata": {},
   "outputs": [],
   "source": [
    "def sample(model, A, y):\n",
    "    sampler = DDPM(\n",
    "        PosteriorDenoiser(\n",
    "            model=model,\n",
    "            A=inox.Partial(measure, A),\n",
    "            y=y,\n",
    "            sigma_y=1e-3 ** 2,\n",
    "        ),\n",
    "    )\n",
    "\n",
    "    z = rng.normal((len(y), 5))\n",
    "    x = sampler(z, steps=64, key=rng.split())\n",
    "\n",
    "    return x\n",
    "\n",
    "x_bis = sample(GaussianDenoiser(), A, y)\n",
    "show(x_bis)"
   ]
  },
  {
   "cell_type": "markdown",
   "metadata": {},
   "source": [
    "## Training"
   ]
  },
  {
   "cell_type": "code",
   "execution_count": null,
   "metadata": {},
   "outputs": [],
   "source": [
    "def train(x, model=None, steps=65536):\n",
    "    if model is None:\n",
    "        model = make_model(key=rng.split())\n",
    "\n",
    "    static, params, others = model.partition(nn.Parameter)\n",
    "\n",
    "    scheduler = optax.linear_schedule(init_value=1e-3, end_value=1e-6, transition_steps=steps)\n",
    "    optimizer = optax.adam(learning_rate=scheduler)\n",
    "    opt_state = optimizer.init(params)\n",
    "\n",
    "    objective = DenoiserLoss()\n",
    "\n",
    "    def ell(params, others, x, A, y, key):\n",
    "        keys = jax.random.split(key, 2)\n",
    "\n",
    "        z = jax.random.normal(keys[0], shape=x.shape)\n",
    "        t = jax.random.beta(keys[1], a=3, b=3, shape=x.shape[:1])\n",
    "\n",
    "        return objective(static(params, others), x, z, t, A=inox.Partial(measure, A), y=y)\n",
    "\n",
    "    @jax.jit\n",
    "    def sgd_step(params, others, opt_state, x, A, y, key):\n",
    "        loss, grads = jax.value_and_grad(ell)(params, others, x, A, y, key)\n",
    "        updates, opt_state = optimizer.update(grads, opt_state, params)\n",
    "        params = optax.apply_updates(params, updates)\n",
    "\n",
    "        return loss, params, opt_state\n",
    "\n",
    "    for step in (bar := trange(steps)):\n",
    "        i = rng.randint(shape=(1024,), minval=0, maxval=len(y))\n",
    "\n",
    "        loss, params, opt_state = sgd_step(params, others, opt_state, x[i], A[i], y[i], rng.split())\n",
    "\n",
    "        bar.set_postfix(loss=float(loss))\n",
    "\n",
    "    return static(params, others)"
   ]
  },
  {
   "cell_type": "code",
   "execution_count": null,
   "metadata": {},
   "outputs": [],
   "source": [
    "model = train(x_bis)\n",
    "x_bis = sample(model, A, y)\n",
    "show(x_bis)"
   ]
  },
  {
   "cell_type": "code",
   "execution_count": null,
   "metadata": {},
   "outputs": [],
   "source": [
    "model = train(x_bis)\n",
    "x_bis = sample(model, A, y)\n",
    "show(x_bis)"
   ]
  },
  {
   "cell_type": "code",
   "execution_count": null,
   "metadata": {},
   "outputs": [],
   "source": [
    "model = train(x_bis)\n",
    "x_bis = sample(model, A, y)\n",
    "show(x_bis)"
   ]
  },
  {
   "cell_type": "code",
   "execution_count": null,
   "metadata": {},
   "outputs": [],
   "source": [
    "model = train(x_bis)\n",
    "x_bis = sample(model, A, y)\n",
    "show(x_bis)"
   ]
  },
  {
   "cell_type": "code",
   "execution_count": null,
   "metadata": {},
   "outputs": [],
   "source": [
    "sampler = DDPM(model)\n",
    "x_ter = sampler(rng.normal(x.shape), steps=64, key=rng.split())\n",
    "show(x_ter)"
   ]
  }
 ],
 "metadata": {
  "kernelspec": {
   "display_name": "inox",
   "language": "python",
   "name": "inox"
  },
  "language_info": {
   "codemirror_mode": {
    "name": "ipython",
    "version": 3
   },
   "file_extension": ".py",
   "mimetype": "text/x-python",
   "name": "python",
   "nbconvert_exporter": "python",
   "pygments_lexer": "ipython3",
   "version": "3.9.18"
  }
 },
 "nbformat": 4,
 "nbformat_minor": 4
}
