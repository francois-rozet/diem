{
 "cells": [
  {
   "cell_type": "code",
   "execution_count": 1,
   "metadata": {},
   "outputs": [],
   "source": [
    "import torch\n",
    "import torch.nn as nn\n",
    "import zuko\n",
    "\n",
    "from torch import Tensor\n",
    "from torchvision.datasets import QMNIST\n",
    "from torchvision.transforms.functional import to_tensor, to_pil_image\n",
    "from typing import *\n",
    "\n",
    "from priors.nn import *\n",
    "from priors.score import *"
   ]
  },
  {
   "cell_type": "markdown",
   "metadata": {},
   "source": [
    "## Data"
   ]
  },
  {
   "cell_type": "code",
   "execution_count": 2,
   "metadata": {},
   "outputs": [],
   "source": [
    "dataset = QMNIST('/scratch/users/frozet/datasets/qmnist')\n",
    "\n",
    "def measure(A, x):\n",
    "    return A * x + A - 1\n",
    "\n",
    "x = dataset.data.flatten(-2).float().cuda() / 256\n",
    "x = 2 * x - 1\n",
    "A = torch.rand_like(x) < 0.25\n",
    "y = torch.normal(measure(A, x), 1e-2)"
   ]
  },
  {
   "cell_type": "code",
   "execution_count": 3,
   "metadata": {},
   "outputs": [],
   "source": [
    "def show(x):\n",
    "    x = x.repeat(1, 1, 1)\n",
    "    x = x.unflatten(-1, (28, 28))\n",
    "\n",
    "    M, N, _, _ = x.shape\n",
    "\n",
    "    x = x.movedim(-3, -2)\n",
    "    x = x.reshape(M * 28, N * 28)\n",
    "    x = x.clip(-1, 1)\n",
    "\n",
    "    return to_pil_image(x)"
   ]
  },
  {
   "cell_type": "code",
   "execution_count": 4,
   "metadata": {},
   "outputs": [
    {
     "data": {
      "image/png": "[encoded data removed]",
      "text/plain": [
       "<PIL.Image.Image image mode=L size=224x56>"
      ]
     },
     "execution_count": 4,
     "metadata": {},
     "output_type": "execute_result"
    }
   ],
   "source": [
    "show(torch.stack((x[:8], y[:8])))"
   ]
  },
  {
   "cell_type": "markdown",
   "metadata": {},
   "source": [
    "## Training"
   ]
  },
  {
   "cell_type": "code",
   "execution_count": 5,
   "metadata": {},
   "outputs": [],
   "source": [
    "class ScoreModel(nn.Module):\n",
    "    def __init__(self):\n",
    "        super().__init__()\n",
    "\n",
    "        kwargs = dict(kernel_size=3, padding=1)\n",
    "\n",
    "        block = lambda channels: nn.Sequential(\n",
    "            LayerNorm(-3),\n",
    "            nn.Conv2d(channels, 2 * channels, **kwargs),\n",
    "            nn.ReLU(),\n",
    "            nn.Conv2d(2 * channels, channels, kernel_size=1),\n",
    "        )\n",
    "\n",
    "        self.head = nn.Sequential(\n",
    "            nn.Unflatten(-1, (1, 28, 28)),\n",
    "            nn.Conv2d(1, 16, **kwargs),\n",
    "        )\n",
    "\n",
    "        self.e0 = TimeEmbedding(16)\n",
    "        self.e1 = TimeEmbedding(32)\n",
    "        self.e2 = TimeEmbedding(64)\n",
    "\n",
    "        self.d1 = nn.Sequential(block(16), block(16), nn.Conv2d(16, 32, stride=2, **kwargs))\n",
    "        self.d2 = nn.Sequential(block(32), block(32), nn.Conv2d(32, 64, stride=2, **kwargs))\n",
    "        self.d3 = nn.Sequential(block(64), block(64), nn.Conv2d(64, 128, stride=2, **kwargs))\n",
    "\n",
    "        self.bottleneck = nn.Sequential(\n",
    "            nn.Flatten(-3),\n",
    "            nn.Linear(128 * 4 * 4, 512),\n",
    "            Residual(\n",
    "                LayerNorm(-1),\n",
    "                nn.Linear(512, 512),\n",
    "                nn.ReLU(),\n",
    "                nn.Linear(512, 512),\n",
    "            ),\n",
    "            nn.Linear(512, 128 * 4 * 4),\n",
    "            nn.Unflatten(-1, (128, 4, 4)),\n",
    "        )\n",
    "\n",
    "        self.u3 = nn.Sequential(nn.ConvTranspose2d(128, 64, stride=2, output_padding=0, **kwargs), block(64), block(64))\n",
    "        self.u2 = nn.Sequential(nn.ConvTranspose2d(64, 32, stride=2, output_padding=1, **kwargs), block(32), block(32))\n",
    "        self.u1 = nn.Sequential(nn.ConvTranspose2d(32, 16, stride=2, output_padding=1, **kwargs), block(16), block(16))\n",
    "\n",
    "        self.tail = nn.Sequential(\n",
    "            nn.Conv2d(16, 1, kernel_size=1),\n",
    "            nn.Flatten(-3),\n",
    "        )\n",
    "\n",
    "    def forward(self, x: Tensor, t: Tensor) -> Tensor:\n",
    "        t0 = self.e0(t)[..., None, None]\n",
    "        t1 = self.e1(t)[..., None, None]\n",
    "        t2 = self.e2(t)[..., None, None]\n",
    "\n",
    "        x0 = self.head(x)\n",
    "        x1 = self.d1(x0 + t0)\n",
    "        x2 = self.d2(x1 + t1)\n",
    "        x3 = self.d3(x2 + t2)\n",
    "        x3 = self.bottleneck(x3)\n",
    "        x2 = self.u3(x3) + x2\n",
    "        x1 = self.u2(x2) + x1\n",
    "        x0 = self.u1(x1) + x0\n",
    "\n",
    "        return self.tail(x0)"
   ]
  },
  {
   "cell_type": "code",
   "execution_count": 6,
   "metadata": {},
   "outputs": [
    {
     "name": "stderr",
     "output_type": "stream",
     "text": [
      "100%|██████████| 256/256 [00:17<00:00, 14.48it/s]\n"
     ]
    }
   ],
   "source": [
    "def sample(model, A, y):\n",
    "    sde = ReverseSDE(\n",
    "        PosteriorScoreModel(\n",
    "            model=model,\n",
    "            y=y,\n",
    "            A=lambda x: measure(A, x),\n",
    "            noise=1e-2,\n",
    "            gamma=1e-1,  # A Gamma A^T ?\n",
    "        )\n",
    "    ).cuda()\n",
    "\n",
    "    z = torch.randn_like(y)\n",
    "    x_bis = sde(z, steps=256, corrections=1, tau=0.25)\n",
    "\n",
    "    return x_bis\n",
    "\n",
    "x_bis = sample(StandardScoreModel(), A, y)"
   ]
  },
  {
   "cell_type": "code",
   "execution_count": 7,
   "metadata": {},
   "outputs": [
    {
     "data": {
      "image/png": "[encoded data removed]",
      "text/plain": [
       "<PIL.Image.Image image mode=L size=224x84>"
      ]
     },
     "execution_count": 7,
     "metadata": {},
     "output_type": "execute_result"
    }
   ],
   "source": [
    "show(torch.stack((x[:8], y[:8], x_bis[:8])))"
   ]
  },
  {
   "cell_type": "code",
   "execution_count": 8,
   "metadata": {},
   "outputs": [],
   "source": [
    "def train(x, A, y):\n",
    "    sde = VPSDE()\n",
    "    model = ScoreModel().cuda()\n",
    "    optimizer = torch.optim.Adam(model.parameters(), lr=1e-3)\n",
    "    scheduler = torch.optim.lr_scheduler.LinearLR(optimizer, 1.0, 0.0, 16384)\n",
    "\n",
    "    for step in range(16384):\n",
    "        i = torch.randint(0, len(y), (64,)).cuda()\n",
    "        xi = x[i]\n",
    "        Ai = A[i]\n",
    "\n",
    "        t = torch.rand_like(xi[..., 0])\n",
    "        xi, z = sde(xi, t)\n",
    "\n",
    "        loss = (Ai * model(xi, t) - Ai * z).square().mean()\n",
    "        loss.backward()\n",
    "\n",
    "        if step % 1024 == 0:\n",
    "            print(f'({step})', loss.item())\n",
    "\n",
    "        optimizer.step()\n",
    "        optimizer.zero_grad()\n",
    "        scheduler.step()\n",
    "\n",
    "    return model"
   ]
  },
  {
   "cell_type": "code",
   "execution_count": 9,
   "metadata": {},
   "outputs": [
    {
     "name": "stdout",
     "output_type": "stream",
     "text": [
      "(0) 0.24483385682106018\n",
      "(1024) 0.02187434770166874\n",
      "(2048) 0.024219078943133354\n",
      "(3072) 0.028432214632630348\n",
      "(4096) 0.026245232671499252\n",
      "(5120) 0.029767615720629692\n",
      "(6144) 0.020436787977814674\n",
      "(7168) 0.025888018310070038\n",
      "(8192) 0.024860603734850883\n",
      "(9216) 0.019755220040678978\n",
      "(10240) 0.02729303389787674\n",
      "(11264) 0.0317813865840435\n",
      "(12288) 0.027387216687202454\n",
      "(13312) 0.022233374416828156\n",
      "(14336) 0.022635001689195633\n",
      "(15360) 0.024161286652088165\n"
     ]
    }
   ],
   "source": [
    "model = train(x_bis, A, y)"
   ]
  },
  {
   "cell_type": "code",
   "execution_count": 10,
   "metadata": {},
   "outputs": [
    {
     "name": "stderr",
     "output_type": "stream",
     "text": [
      "100%|██████████| 256/256 [00:05<00:00, 44.40it/s]\n"
     ]
    },
    {
     "data": {
      "image/png": "[encoded data removed]",
      "text/plain": [
       "<PIL.Image.Image image mode=L size=224x84>"
      ]
     },
     "execution_count": 10,
     "metadata": {},
     "output_type": "execute_result"
    }
   ],
   "source": [
    "z = sample(model, A[:8], y[:8])\n",
    "show(torch.stack((x[:8], y[:8], z)))"
   ]
  },
  {
   "cell_type": "code",
   "execution_count": 11,
   "metadata": {},
   "outputs": [
    {
     "name": "stderr",
     "output_type": "stream",
     "text": [
      "100%|██████████| 256/256 [01:01<00:00,  4.17it/s]\n",
      "100%|██████████| 256/256 [01:01<00:00,  4.17it/s]\n",
      "100%|██████████| 256/256 [01:01<00:00,  4.16it/s]\n",
      "100%|██████████| 256/256 [01:01<00:00,  4.16it/s]\n",
      "100%|██████████| 256/256 [01:01<00:00,  4.17it/s]\n",
      "100%|██████████| 256/256 [01:01<00:00,  4.17it/s]\n",
      "100%|██████████| 256/256 [01:01<00:00,  4.16it/s]\n",
      "100%|██████████| 256/256 [01:01<00:00,  4.16it/s]\n",
      "100%|██████████| 256/256 [01:01<00:00,  4.17it/s]\n",
      "100%|██████████| 256/256 [01:01<00:00,  4.17it/s]\n",
      "100%|██████████| 256/256 [01:01<00:00,  4.17it/s]\n",
      "100%|██████████| 256/256 [01:01<00:00,  4.17it/s]\n",
      "100%|██████████| 256/256 [01:01<00:00,  4.16it/s]\n",
      "100%|██████████| 256/256 [01:01<00:00,  4.17it/s]\n",
      "100%|██████████| 256/256 [01:01<00:00,  4.16it/s]\n",
      "100%|██████████| 256/256 [01:01<00:00,  4.16it/s]\n",
      "100%|██████████| 256/256 [01:01<00:00,  4.17it/s]\n",
      "100%|██████████| 256/256 [01:01<00:00,  4.17it/s]\n",
      "100%|██████████| 256/256 [01:01<00:00,  4.17it/s]\n",
      "100%|██████████| 256/256 [01:01<00:00,  4.17it/s]\n",
      "100%|██████████| 256/256 [01:01<00:00,  4.17it/s]\n",
      "100%|██████████| 256/256 [01:01<00:00,  4.17it/s]\n",
      "100%|██████████| 256/256 [01:01<00:00,  4.16it/s]\n",
      "100%|██████████| 256/256 [01:01<00:00,  4.17it/s]\n",
      "100%|██████████| 256/256 [01:01<00:00,  4.17it/s]\n",
      "100%|██████████| 256/256 [01:01<00:00,  4.17it/s]\n",
      "100%|██████████| 256/256 [01:01<00:00,  4.17it/s]\n",
      "100%|██████████| 256/256 [01:01<00:00,  4.17it/s]\n",
      "100%|██████████| 256/256 [01:01<00:00,  4.17it/s]\n",
      "100%|██████████| 256/256 [01:01<00:00,  4.17it/s]\n",
      "100%|██████████| 256/256 [01:01<00:00,  4.16it/s]\n",
      "100%|██████████| 256/256 [01:01<00:00,  4.17it/s]\n",
      "100%|██████████| 256/256 [01:01<00:00,  4.17it/s]\n",
      "100%|██████████| 256/256 [01:01<00:00,  4.17it/s]\n",
      "100%|██████████| 256/256 [01:01<00:00,  4.17it/s]\n",
      "100%|██████████| 256/256 [01:01<00:00,  4.17it/s]\n",
      "100%|██████████| 256/256 [01:01<00:00,  4.17it/s]\n",
      "100%|██████████| 256/256 [01:01<00:00,  4.17it/s]\n",
      "100%|██████████| 256/256 [01:01<00:00,  4.17it/s]\n",
      "100%|██████████| 256/256 [01:01<00:00,  4.17it/s]\n",
      "100%|██████████| 256/256 [01:01<00:00,  4.17it/s]\n",
      "100%|██████████| 256/256 [01:01<00:00,  4.17it/s]\n",
      "100%|██████████| 256/256 [01:01<00:00,  4.17it/s]\n",
      "100%|██████████| 256/256 [01:01<00:00,  4.17it/s]\n",
      "100%|██████████| 256/256 [01:01<00:00,  4.17it/s]\n",
      "100%|██████████| 256/256 [01:01<00:00,  4.17it/s]\n",
      "100%|██████████| 256/256 [01:01<00:00,  4.17it/s]\n",
      "100%|██████████| 256/256 [01:01<00:00,  4.17it/s]\n",
      "100%|██████████| 256/256 [01:01<00:00,  4.17it/s]\n",
      "100%|██████████| 256/256 [01:01<00:00,  4.17it/s]\n",
      "100%|██████████| 256/256 [01:01<00:00,  4.17it/s]\n",
      "100%|██████████| 256/256 [01:01<00:00,  4.17it/s]\n",
      "100%|██████████| 256/256 [01:01<00:00,  4.17it/s]\n",
      "100%|██████████| 256/256 [01:01<00:00,  4.17it/s]\n",
      "100%|██████████| 256/256 [01:01<00:00,  4.17it/s]\n",
      "100%|██████████| 256/256 [01:01<00:00,  4.17it/s]\n",
      "100%|██████████| 256/256 [01:01<00:00,  4.17it/s]\n",
      "100%|██████████| 256/256 [01:01<00:00,  4.17it/s]\n",
      "100%|██████████| 256/256 [00:37<00:00,  6.78it/s]\n"
     ]
    }
   ],
   "source": [
    "def split_sample(model, A, y, step=1024):\n",
    "    return torch.cat([\n",
    "        sample(model, A[i:i+step], y[i:i+step])\n",
    "        for i in range(0, len(y), step)\n",
    "    ])\n",
    "\n",
    "x_bis = split_sample(model, A, y)"
   ]
  },
  {
   "cell_type": "code",
   "execution_count": 12,
   "metadata": {},
   "outputs": [
    {
     "name": "stdout",
     "output_type": "stream",
     "text": [
      "(0) 0.2619246244430542\n",
      "(1024) 0.019714312627911568\n",
      "(2048) 0.01662924513220787\n",
      "(3072) 0.014764569699764252\n",
      "(4096) 0.01686028763651848\n",
      "(5120) 0.017124835401773453\n",
      "(6144) 0.013394102454185486\n",
      "(7168) 0.011796821840107441\n",
      "(8192) 0.015985071659088135\n",
      "(9216) 0.016246158629655838\n",
      "(10240) 0.016666436567902565\n",
      "(11264) 0.016192849725484848\n",
      "(12288) 0.014284282922744751\n",
      "(13312) 0.0186997689306736\n",
      "(14336) 0.012663803063333035\n",
      "(15360) 0.019203051924705505\n"
     ]
    }
   ],
   "source": [
    "model = train(x_bis, A, y)"
   ]
  },
  {
   "cell_type": "code",
   "execution_count": 13,
   "metadata": {},
   "outputs": [
    {
     "name": "stderr",
     "output_type": "stream",
     "text": [
      "100%|██████████| 256/256 [00:05<00:00, 47.15it/s]\n"
     ]
    },
    {
     "data": {
      "image/png": "[encoded data removed]",
      "text/plain": [
       "<PIL.Image.Image image mode=L size=224x84>"
      ]
     },
     "execution_count": 13,
     "metadata": {},
     "output_type": "execute_result"
    }
   ],
   "source": [
    "z = sample(model, A[:8], y[:8])\n",
    "show(torch.stack((x[:8], y[:8], z)))"
   ]
  }
 ],
 "metadata": {
  "kernelspec": {
   "display_name": "priors",
   "language": "python",
   "name": "priors"
  },
  "language_info": {
   "codemirror_mode": {
    "name": "ipython",
    "version": 3
   },
   "file_extension": ".py",
   "mimetype": "text/x-python",
   "name": "python",
   "nbconvert_exporter": "python",
   "pygments_lexer": "ipython3",
   "version": "3.9.18"
  }
 },
 "nbformat": 4,
 "nbformat_minor": 4
}
